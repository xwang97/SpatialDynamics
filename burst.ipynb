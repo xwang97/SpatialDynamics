{
 "cells": [
  {
   "cell_type": "code",
   "execution_count": 1,
   "metadata": {},
   "outputs": [],
   "source": [
    "%load_ext autoreload\n",
    "%autoreload 2"
   ]
  },
  {
   "cell_type": "markdown",
   "metadata": {},
   "source": [
    "## 0. Import dependencies"
   ]
  },
  {
   "cell_type": "code",
   "execution_count": 2,
   "metadata": {},
   "outputs": [],
   "source": [
    "from data_builder import TimeSeriesBuilder, read_trans\n",
    "import os"
   ]
  },
  {
   "cell_type": "markdown",
   "metadata": {},
   "source": [
    "## 1. Build pseudo time-series samples by local neighborhood random walk"
   ]
  },
  {
   "cell_type": "code",
   "execution_count": 12,
   "metadata": {},
   "outputs": [
    {
     "name": "stdout",
     "output_type": "stream",
     "text": [
      "Building cell dictionaries\n",
      "Find spatial neighbors\n",
      "Build cell feature vectors\n",
      "Calculate random walk transition probabilities\n"
     ]
    },
    {
     "name": "stderr",
     "output_type": "stream",
     "text": [
      "/Users/xw90/Documents/王枭带贴画的小新/PhD资料/Projects/SpatialDynamics/SpatialDynamics/data_builder.py:35: RuntimeWarning: ks_2samp: Exact calculation unsuccessful. Switching to method=asymp.\n",
      "  # stats.ecdf(sub_base).cdf.plot()\n"
     ]
    },
    {
     "name": "stdout",
     "output_type": "stream",
     "text": [
      "Start building the dataset\n"
     ]
    },
    {
     "name": "stderr",
     "output_type": "stream",
     "text": [
      "100%|██████████| 10000/10000 [00:01<00:00, 6019.89it/s]\n"
     ]
    },
    {
     "name": "stdout",
     "output_type": "stream",
     "text": [
      "10000 time-series samples generated\n"
     ]
    }
   ],
   "source": [
    "folder = '../RawData/Xenium/BreastSample1Rep1/'\n",
    "gene = 'GATA3'\n",
    "save_path = '../TimeSeries/Xenium/BreastSample1Rep1/'\n",
    "transcripts = read_trans(folder + gene + '.csv')\n",
    "tsb = TimeSeriesBuilder(transcripts)\n",
    "tsb.run(num_samples=10000, save_path=save_path, gene=gene)"
   ]
  },
  {
   "cell_type": "markdown",
   "metadata": {},
   "source": [
    "## 2. Train and test the model"
   ]
  },
  {
   "cell_type": "code",
   "execution_count": 14,
   "metadata": {},
   "outputs": [
    {
     "name": "stdout",
     "output_type": "stream",
     "text": [
      "(9999, 20, 10)\n",
      "Epoch [1/100], Loss1: 4.4340, Loss2: 13.2263, Loss3: 0.0274\n",
      "Epoch [2/100], Loss1: 4.4439, Loss2: 16.7371, Loss3: 0.0933\n",
      "Epoch [3/100], Loss1: 4.3227, Loss2: 14.6524, Loss3: 0.1667\n",
      "Epoch [4/100], Loss1: 3.5871, Loss2: 15.9824, Loss3: 0.1085\n",
      "Epoch [5/100], Loss1: 3.4474, Loss2: 17.0153, Loss3: 0.0653\n",
      "Epoch [6/100], Loss1: 3.3374, Loss2: 18.0158, Loss3: 0.0979\n",
      "Epoch [7/100], Loss1: 3.3073, Loss2: 16.8642, Loss3: 0.0321\n",
      "Epoch [8/100], Loss1: 3.3254, Loss2: 16.0066, Loss3: 0.1047\n",
      "Epoch [9/100], Loss1: 3.2795, Loss2: 17.3886, Loss3: 0.1391\n",
      "Epoch [10/100], Loss1: 3.3532, Loss2: 16.0435, Loss3: 0.0696\n",
      "Epoch [11/100], Loss1: 3.2261, Loss2: 17.0369, Loss3: 0.1675\n",
      "Epoch [12/100], Loss1: 3.1760, Loss2: 17.4556, Loss3: 0.1008\n",
      "Epoch [13/100], Loss1: 3.1905, Loss2: 17.1154, Loss3: 0.0282\n",
      "Epoch [14/100], Loss1: 3.1716, Loss2: 17.2270, Loss3: 0.0910\n",
      "Epoch [15/100], Loss1: 3.1564, Loss2: 16.6013, Loss3: 0.1042\n",
      "Epoch [16/100], Loss1: 3.1822, Loss2: 18.0745, Loss3: 0.0870\n",
      "Epoch [17/100], Loss1: 3.1820, Loss2: 17.0096, Loss3: 0.0229\n",
      "Epoch [18/100], Loss1: 3.1497, Loss2: 17.6521, Loss3: 0.1010\n",
      "Epoch [19/100], Loss1: 3.1665, Loss2: 17.0560, Loss3: 0.0714\n",
      "Epoch [20/100], Loss1: 3.1340, Loss2: 17.2517, Loss3: 0.1206\n",
      "Epoch [21/100], Loss1: 3.1121, Loss2: 17.2669, Loss3: 0.1550\n",
      "Epoch [22/100], Loss1: 3.1071, Loss2: 17.2937, Loss3: 0.0609\n",
      "Epoch [23/100], Loss1: 3.0971, Loss2: 17.6952, Loss3: 0.1211\n",
      "Epoch [24/100], Loss1: 3.1141, Loss2: 17.6653, Loss3: 0.0851\n",
      "Epoch [25/100], Loss1: 3.1094, Loss2: 17.4596, Loss3: 0.1564\n",
      "Epoch [26/100], Loss1: 3.1025, Loss2: 17.3063, Loss3: 0.1475\n",
      "Epoch [27/100], Loss1: 3.1156, Loss2: 16.9479, Loss3: 0.0626\n",
      "Epoch [28/100], Loss1: 3.0943, Loss2: 17.8228, Loss3: 0.1040\n",
      "Epoch [29/100], Loss1: 3.1075, Loss2: 17.5584, Loss3: 0.0951\n",
      "Epoch [30/100], Loss1: 3.0998, Loss2: 17.5347, Loss3: 0.1456\n",
      "Epoch [31/100], Loss1: 3.0769, Loss2: 17.4978, Loss3: 0.1519\n",
      "Epoch [32/100], Loss1: 3.0652, Loss2: 17.8436, Loss3: 0.0898\n",
      "Epoch [33/100], Loss1: 3.0838, Loss2: 17.0286, Loss3: 0.1843\n",
      "Epoch [34/100], Loss1: 3.0755, Loss2: 17.2058, Loss3: 0.1590\n",
      "Epoch [35/100], Loss1: 3.0772, Loss2: 17.1231, Loss3: 0.1434\n",
      "Epoch [36/100], Loss1: 3.0652, Loss2: 17.6681, Loss3: 0.0978\n",
      "Epoch [37/100], Loss1: 3.0638, Loss2: 17.8291, Loss3: 0.0836\n",
      "Epoch [38/100], Loss1: 3.0872, Loss2: 17.2747, Loss3: 0.1302\n",
      "Epoch [39/100], Loss1: 3.0845, Loss2: 17.1993, Loss3: 0.1497\n",
      "Epoch [40/100], Loss1: 3.0818, Loss2: 17.1997, Loss3: 0.1359\n",
      "Epoch [41/100], Loss1: 3.0608, Loss2: 17.7182, Loss3: 0.1005\n",
      "Epoch [42/100], Loss1: 3.0580, Loss2: 17.5197, Loss3: 0.1278\n",
      "Epoch [43/100], Loss1: 3.0519, Loss2: 17.7982, Loss3: 0.0869\n",
      "Epoch [44/100], Loss1: 3.0496, Loss2: 17.6801, Loss3: 0.0969\n",
      "Epoch [45/100], Loss1: 3.0535, Loss2: 17.4954, Loss3: 0.1335\n",
      "Epoch [46/100], Loss1: 3.0554, Loss2: 17.6993, Loss3: 0.0828\n",
      "Epoch [47/100], Loss1: 3.0586, Loss2: 17.3497, Loss3: 0.1543\n",
      "Epoch [48/100], Loss1: 3.0552, Loss2: 17.5157, Loss3: 0.0903\n",
      "Epoch [49/100], Loss1: 3.0541, Loss2: 17.3440, Loss3: 0.1523\n",
      "Epoch [50/100], Loss1: 3.0521, Loss2: 17.5516, Loss3: 0.0964\n",
      "Epoch [51/100], Loss1: 3.0425, Loss2: 17.5594, Loss3: 0.1215\n",
      "Epoch [52/100], Loss1: 3.0372, Loss2: 17.5873, Loss3: 0.1246\n",
      "Epoch [53/100], Loss1: 3.0597, Loss2: 17.0892, Loss3: 0.1451\n",
      "Epoch [54/100], Loss1: 3.0515, Loss2: 17.5947, Loss3: 0.0903\n",
      "Epoch [55/100], Loss1: 3.0489, Loss2: 17.3402, Loss3: 0.1410\n",
      "Epoch [56/100], Loss1: 3.0563, Loss2: 17.1138, Loss3: 0.1486\n",
      "Epoch [57/100], Loss1: 3.0469, Loss2: 17.4588, Loss3: 0.1211\n",
      "Epoch [58/100], Loss1: 3.0456, Loss2: 17.4077, Loss3: 0.1320\n",
      "Epoch [59/100], Loss1: 3.0415, Loss2: 17.5920, Loss3: 0.0924\n",
      "Epoch [60/100], Loss1: 3.0339, Loss2: 17.5481, Loss3: 0.1221\n",
      "Epoch [61/100], Loss1: 3.0398, Loss2: 17.2736, Loss3: 0.1462\n",
      "Epoch [62/100], Loss1: 3.0375, Loss2: 17.2521, Loss3: 0.1440\n",
      "Epoch [63/100], Loss1: 3.0362, Loss2: 17.2696, Loss3: 0.1410\n",
      "Epoch [64/100], Loss1: 3.0441, Loss2: 17.1455, Loss3: 0.1427\n",
      "Epoch [65/100], Loss1: 3.0368, Loss2: 17.1437, Loss3: 0.1418\n",
      "Epoch [66/100], Loss1: 3.0303, Loss2: 17.4762, Loss3: 0.1146\n",
      "Epoch [67/100], Loss1: 3.0359, Loss2: 17.3587, Loss3: 0.1376\n",
      "Epoch [68/100], Loss1: 3.0432, Loss2: 17.1968, Loss3: 0.1462\n",
      "Epoch [69/100], Loss1: 3.0344, Loss2: 17.5662, Loss3: 0.1119\n",
      "Epoch [70/100], Loss1: 3.0341, Loss2: 17.4536, Loss3: 0.1295\n",
      "Epoch [71/100], Loss1: 3.0394, Loss2: 17.2083, Loss3: 0.1491\n",
      "Epoch [72/100], Loss1: 3.0248, Loss2: 17.5997, Loss3: 0.1158\n",
      "Epoch [73/100], Loss1: 3.0329, Loss2: 17.3483, Loss3: 0.1367\n",
      "Epoch [74/100], Loss1: 3.0341, Loss2: 17.3215, Loss3: 0.1335\n",
      "Epoch [75/100], Loss1: 3.0325, Loss2: 17.4158, Loss3: 0.1332\n",
      "Epoch [76/100], Loss1: 3.0313, Loss2: 17.3626, Loss3: 0.1350\n",
      "Epoch [77/100], Loss1: 3.0387, Loss2: 17.3069, Loss3: 0.1397\n",
      "Epoch [78/100], Loss1: 3.0339, Loss2: 17.3006, Loss3: 0.1335\n",
      "Epoch [79/100], Loss1: 3.0288, Loss2: 17.3504, Loss3: 0.1352\n",
      "Epoch [80/100], Loss1: 3.0315, Loss2: 17.3772, Loss3: 0.1329\n",
      "Epoch [81/100], Loss1: 3.0283, Loss2: 17.4308, Loss3: 0.1301\n",
      "Epoch [82/100], Loss1: 3.0382, Loss2: 17.0084, Loss3: 0.1582\n",
      "Epoch [83/100], Loss1: 3.0381, Loss2: 17.1434, Loss3: 0.1535\n",
      "Epoch [84/100], Loss1: 3.0304, Loss2: 17.4179, Loss3: 0.1317\n",
      "Epoch [85/100], Loss1: 3.0337, Loss2: 17.2363, Loss3: 0.1453\n",
      "Epoch [86/100], Loss1: 3.0270, Loss2: 17.3629, Loss3: 0.1366\n",
      "Epoch [87/100], Loss1: 3.0275, Loss2: 17.3249, Loss3: 0.1373\n",
      "Epoch [88/100], Loss1: 3.0275, Loss2: 17.4172, Loss3: 0.1313\n",
      "Epoch [89/100], Loss1: 3.0191, Loss2: 17.6772, Loss3: 0.1123\n",
      "Epoch [90/100], Loss1: 3.0265, Loss2: 17.3781, Loss3: 0.1378\n",
      "Epoch [91/100], Loss1: 3.0290, Loss2: 17.3162, Loss3: 0.1433\n",
      "Epoch [92/100], Loss1: 3.0358, Loss2: 17.1167, Loss3: 0.1542\n",
      "Epoch [93/100], Loss1: 3.0289, Loss2: 17.3385, Loss3: 0.1385\n",
      "Epoch [94/100], Loss1: 3.0313, Loss2: 17.1894, Loss3: 0.1473\n",
      "Epoch [95/100], Loss1: 3.0318, Loss2: 17.2355, Loss3: 0.1438\n",
      "Epoch [96/100], Loss1: 3.0348, Loss2: 17.1158, Loss3: 0.1544\n",
      "Epoch [97/100], Loss1: 3.0340, Loss2: 17.1875, Loss3: 0.1490\n",
      "Epoch [98/100], Loss1: 3.0280, Loss2: 17.3118, Loss3: 0.1394\n",
      "Epoch [99/100], Loss1: 3.0269, Loss2: 17.2582, Loss3: 0.1467\n",
      "Epoch [100/100], Loss1: 3.0337, Loss2: 17.1700, Loss3: 0.1547\n"
     ]
    }
   ],
   "source": [
    "!python main.py -data_path '../TimeSeries/Xenium/BreastSample1Rep1/GATA3_data.csv' -locs_path '../TimeSeries/Xenium/BreastSample1Rep1/GATA3_locs.csv'"
   ]
  }
 ],
 "metadata": {
  "kernelspec": {
   "display_name": "pytorch",
   "language": "python",
   "name": "python3"
  },
  "language_info": {
   "codemirror_mode": {
    "name": "ipython",
    "version": 3
   },
   "file_extension": ".py",
   "mimetype": "text/x-python",
   "name": "python",
   "nbconvert_exporter": "python",
   "pygments_lexer": "ipython3",
   "version": "3.12.1"
  }
 },
 "nbformat": 4,
 "nbformat_minor": 2
}
