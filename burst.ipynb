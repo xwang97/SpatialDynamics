{
 "cells": [
  {
   "cell_type": "code",
   "execution_count": 1,
   "metadata": {},
   "outputs": [],
   "source": [
    "%load_ext autoreload\n",
    "%autoreload 2"
   ]
  },
  {
   "cell_type": "markdown",
   "metadata": {},
   "source": [
    "## 0. Import dependencies"
   ]
  },
  {
   "cell_type": "code",
   "execution_count": 2,
   "metadata": {},
   "outputs": [],
   "source": [
    "from data_builder import TimeSeriesBuilder, read_trans\n",
    "import os"
   ]
  },
  {
   "cell_type": "markdown",
   "metadata": {},
   "source": [
    "## 1. Build pseudo time-series samples by local neighborhood random walk"
   ]
  },
  {
   "cell_type": "code",
   "execution_count": 6,
   "metadata": {},
   "outputs": [
    {
     "name": "stdout",
     "output_type": "stream",
     "text": [
      "Building cell dictionaries\n",
      "Find spatial neighbors\n",
      "Build cell feature vectors\n",
      "Calculate random walk transition probabilities\n"
     ]
    },
    {
     "name": "stderr",
     "output_type": "stream",
     "text": [
      "/Users/xw90/Documents/王枭带贴画的小新/PhD资料/Projects/SpatialDynamics/SpatialDynamics/data_builder.py:35: RuntimeWarning: ks_2samp: Exact calculation unsuccessful. Switching to method=asymp.\n",
      "  # stats.ecdf(sub_base).cdf.plot()\n"
     ]
    },
    {
     "name": "stdout",
     "output_type": "stream",
     "text": [
      "Start building the dataset\n"
     ]
    },
    {
     "name": "stderr",
     "output_type": "stream",
     "text": [
      "100%|██████████| 10000/10000 [00:01<00:00, 5947.30it/s]\n"
     ]
    },
    {
     "name": "stdout",
     "output_type": "stream",
     "text": [
      "10000 time-series samples generated\n"
     ]
    }
   ],
   "source": [
    "folder = '../RawData/Xenium/BreastSample1Rep1/'\n",
    "gene = 'GATA3'\n",
    "save_path = '../TimeSeries/Xenium/BreastSample1Rep1/'\n",
    "transcripts = read_trans(folder + gene + '.csv')\n",
    "tsb = TimeSeriesBuilder(transcripts)\n",
    "tsb.run(num_samples=10000, save_path=save_path, gene=gene)"
   ]
  }
 ],
 "metadata": {
  "kernelspec": {
   "display_name": "pytorch",
   "language": "python",
   "name": "python3"
  },
  "language_info": {
   "codemirror_mode": {
    "name": "ipython",
    "version": 3
   },
   "file_extension": ".py",
   "mimetype": "text/x-python",
   "name": "python",
   "nbconvert_exporter": "python",
   "pygments_lexer": "ipython3",
   "version": "3.12.1"
  }
 },
 "nbformat": 4,
 "nbformat_minor": 2
}
