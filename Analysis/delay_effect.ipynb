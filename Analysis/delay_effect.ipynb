{
 "cells": [
  {
   "cell_type": "code",
   "execution_count": 1,
   "metadata": {},
   "outputs": [],
   "source": [
    "%load_ext autoreload\n",
    "%autoreload 2"
   ]
  },
  {
   "cell_type": "code",
   "execution_count": 2,
   "metadata": {},
   "outputs": [],
   "source": [
    "import sys\n",
    "import os\n",
    "from pathlib import Path\n",
    "import warnings\n",
    "from IPython.display import clear_output\n",
    "\n",
    "# Get the parent directory and add it to sys.path\n",
    "parent_dir = Path().resolve().parent\n",
    "sys.path.append(str(parent_dir))\n",
    "\n",
    "warnings.filterwarnings(\"ignore\")\n",
    "\n",
    "from data_builder import TimeSeriesBuilder, read_trans, read_labels\n",
    "from utils import read_data, set_seed, heuristic_alpha, heuristic_alpha2\n",
    "from models import Model\n",
    "import torch\n",
    "import torch.nn as nn\n",
    "import matplotlib.pyplot as plt\n",
    "from training import train, test\n",
    "from tqdm import tqdm\n",
    "import pandas as pd\n",
    "import numpy as np\n",
    "import gc\n",
    "\n",
    "# Set parameters\n",
    "SEQ_LEN = 10\n",
    "dim_inputs = 10\n",
    "hidden_size = 50\n",
    "latent_size = 50\n",
    "\n",
    "batch_size = 1024\n",
    "base_lr = 0.01\n",
    "lr_step = 10\n",
    "num_epochs = 100"
   ]
  },
  {
   "cell_type": "markdown",
   "metadata": {},
   "source": [
    "### 1. Generate time-series by referring to a base gene"
   ]
  },
  {
   "cell_type": "code",
   "execution_count": null,
   "metadata": {},
   "outputs": [],
   "source": [
    "# load transcripts and cell types\n",
    "folder = '../../Xenium/HumanBoneMarrow/'\n",
    "data_folder = folder + 'TimeSeries/'\n",
    "save_path = folder + 'ReferredTimeSeries/'\n",
    "cell_types = read_labels(filename=folder + 'Cell_Barcode_Type_Matrices.xlsx', sheet='Xenium R1 Fig1-5 (supervised)')\n",
    "# Fetch the list of genes\n",
    "gene_list = [f.split('_')[0] for f in os.listdir(data_folder) if f.endswith('.csv')]\n",
    "gene_list = sorted(list(set(gene_list)))\n",
    "# set base gene\n",
    "base_gene = 'GATA3'\n",
    "gene_list.remove(base_gene)\n",
    "refer_cell_ids = pd.read_csv(data_folder + base_gene + '_ids.csv').values\n",
    "\n",
    "for i in range(len(gene_list)):\n",
    "    gene = gene_list[i]\n",
    "    clear_output(wait=True)\n",
    "    print(f'Processing the {i+1}-th gene: {gene}')\n",
    "    transcripts = read_trans(folder + 'MoleculesPerGene/' + gene + '.csv')\n",
    "    num_cells = transcripts['cell_id'].nunique()\n",
    "    # Build time series\n",
    "    tsb = TimeSeriesBuilder(transcripts, cell_types)\n",
    "    tsb.run(num_samples=int(num_cells/5), save_path=save_path, gene=gene, method='refer', reference_ids=refer_cell_ids)"
   ]
  },
  {
   "cell_type": "markdown",
   "metadata": {},
   "source": [
    "### 4. Apply to all the gene pairs\n",
    "The previous sections showed an example of delay effect on one gene pair. This section focuses on running experiments on all the available TF-gene pairs in the data. The TF-gene pairs used here are extracted by referring to the Msig database."
   ]
  },
  {
   "cell_type": "code",
   "execution_count": 3,
   "metadata": {},
   "outputs": [],
   "source": [
    "# 4.1 Load TF-gene pairs\n",
    "file = '../../Xenium/HumanBoneMarrow/tf_gene_pairs.csv'\n",
    "tf_gene_pairs = pd.read_csv(file)"
   ]
  },
  {
   "cell_type": "code",
   "execution_count": 5,
   "metadata": {},
   "outputs": [
    {
     "name": "stdout",
     "output_type": "stream",
     "text": [
      "Processing the 6-th TF-gene pair: LEF1 - SPP1\n",
      "Building cell dictionaries\n",
      "Build cell feature vectors\n",
      "1094 time-series samples of SPP1 generated\n"
     ]
    }
   ],
   "source": [
    "# 4.2 Generate time-series samples for all TF-gene pairs\n",
    "folder = '../../Xenium/HumanBoneMarrow/'\n",
    "# cell_types = read_labels(filename=folder + 'Cell_Barcode_Type_Matrices.xlsx', sheet='Xenium R1 Fig1-5 (supervised)')\n",
    "cell_types = read_labels(filename=folder + 'clusters.csv')\n",
    "for i in range(len(tf_gene_pairs)):\n",
    "    tf = tf_gene_pairs.iloc[i]['TF']\n",
    "    gene = tf_gene_pairs.iloc[i]['Gene']\n",
    "    tf_gene_folder = os.path.join(folder+'DelayPairs/', f\"{tf}_{gene}\")\n",
    "    os.makedirs(tf_gene_folder, exist_ok=True)\n",
    "    clear_output(wait=True)\n",
    "    print(f'Processing the {i+1}-th TF-gene pair: {tf} - {gene}')\n",
    "\n",
    "    # Use tf as base gene, generate time-series samples for the regulated gene\n",
    "    base_gene = tf\n",
    "    refer_cell_ids = pd.read_csv(folder+'TimeSeries/' + base_gene + '_ids.csv').values\n",
    "    transcripts = read_trans(folder+'MoleculesPerGene/' + gene + '.csv')\n",
    "    num_cells = transcripts['cell_id'].nunique()\n",
    "    tsb = TimeSeriesBuilder(transcripts, cell_types)\n",
    "    tsb.run(num_samples=int(num_cells/10), save_path=tf_gene_folder+'/', gene=gene, method='refer', reference_ids=refer_cell_ids)"
   ]
  },
  {
   "cell_type": "code",
   "execution_count": 6,
   "metadata": {},
   "outputs": [],
   "source": [
    "def easy_test(data_folder, model_folder, gene, SEQ_LEN, dim_inputs, hidden_size, latent_size):\n",
    "    # load test data\n",
    "    data_path = data_folder + gene + '_data.csv'\n",
    "    locs_path = data_folder + gene + '_locs.csv'\n",
    "    data, locs = read_data(data_path, locs_path, SEQ_LEN, dim_inputs)\n",
    "    test_data = data\n",
    "    test_locs = locs\n",
    "    # load the trained model and start test\n",
    "    model_path = model_folder + gene + '_model.pth'\n",
    "    net = Model(dim_inputs, hidden_size, latent_size, SEQ_LEN)\n",
    "    net.load_state_dict(torch.load(model_path))\n",
    "    with torch.no_grad():\n",
    "        prediction, generation, trans_status, loss_recon = test(test_data, test_locs, net)\n",
    "    return prediction, generation, trans_status, loss_recon"
   ]
  },
  {
   "cell_type": "code",
   "execution_count": 7,
   "metadata": {},
   "outputs": [
    {
     "name": "stdout",
     "output_type": "stream",
     "text": [
      "Processing the 6-th TF-gene pair: LEF1 - SPP1\n"
     ]
    },
    {
     "name": "stderr",
     "output_type": "stream",
     "text": [
      "Training: 100%|██████████| 100/100 [00:00<00:00, 107.33it/s]\n"
     ]
    }
   ],
   "source": [
    "# 4.3 Train and test the model on all the TF-gene pairs\n",
    "folder = '../../Xenium/HumanBoneMarrow/'\n",
    "\n",
    "for i in range(len(tf_gene_pairs)):\n",
    "    tf = tf_gene_pairs.iloc[i]['TF']\n",
    "    gene = tf_gene_pairs.iloc[i]['Gene']\n",
    "    tf_gene_folder = os.path.join(folder+'DelayPairs/', f\"{tf}_{gene}/\")\n",
    "    clear_output(wait=True)\n",
    "    print(f'Processing the {i+1}-th TF-gene pair: {tf} - {gene}')\n",
    "\n",
    "    # Train on the regulated gene\n",
    "    data_path = tf_gene_folder + gene + '_data.csv'\n",
    "    locs_path = tf_gene_folder + gene + '_locs.csv'\n",
    "    if os.path.exists(data_path) and os.path.getsize(data_path) == 0:\n",
    "        continue\n",
    "    data, locs = read_data(data_path, locs_path, SEQ_LEN, dim_inputs)\n",
    "    train_data = data\n",
    "    train_locs = locs\n",
    "    set_seed(42)\n",
    "    alpha = heuristic_alpha2(train_data)\n",
    "    net, _, _ = train(train_data, train_locs, alpha, batch_size, base_lr, lr_step, num_epochs, hidden_size, latent_size, SEQ_LEN)\n",
    "    torch.save(net.state_dict(), tf_gene_folder + gene + '_model.pth')\n",
    "    # Test on the regulated gene\n",
    "    _, generation, trans_status, _ = easy_test(tf_gene_folder, tf_gene_folder, gene, SEQ_LEN, dim_inputs, hidden_size, latent_size)\n",
    "\n",
    "    # Test on the saved model of the tf\n",
    "    data_folder_tf = folder + 'TimeSeries/'\n",
    "    model_folder_tf = folder + 'Models/'\n",
    "    _, generation_tf, trans_status_tf, _ = easy_test(data_folder_tf, model_folder_tf, tf, SEQ_LEN, dim_inputs, hidden_size, latent_size)\n",
    "\n",
    "    # Save the paired velos\n",
    "    reference = pd.read_csv(tf_gene_folder + gene + '_reference.csv')\n",
    "    rows = []\n",
    "\n",
    "    # Loop through all indices in the reference dataframe\n",
    "    for i in range(len(reference)):\n",
    "        # Extract reference index\n",
    "        ref = int(reference.iloc[i])\n",
    "\n",
    "        # Process generated and base data\n",
    "        gen = generation[i].view(-1).cpu().detach().numpy()\n",
    "        status = trans_status[i].view(-1).cpu().detach().numpy()\n",
    "        gen_tf = generation_tf[ref].view(-1).cpu().detach().numpy()\n",
    "        status_tf = trans_status_tf[ref].view(-1).cpu().detach().numpy()\n",
    "\n",
    "        # Compute velo and velo_base\n",
    "        velo = gen * status\n",
    "        velo_tf = gen_tf * status_tf\n",
    "\n",
    "        # Save the pair as a row\n",
    "        rows.append(np.hstack((velo_tf, velo)))\n",
    "\n",
    "    # Convert rows to a DataFrame and save to a CSV file\n",
    "    output_df = pd.DataFrame(rows)\n",
    "    output_df.to_csv(tf_gene_folder + f\"{tf}_{gene}_velos.csv\", index=False, header=False)\n",
    "    torch.cuda.empty_cache() \n",
    "    gc.collect()"
   ]
  },
  {
   "cell_type": "markdown",
   "metadata": {},
   "source": [
    "### 5. Check delay effects from the saved velos"
   ]
  },
  {
   "cell_type": "code",
   "execution_count": 8,
   "metadata": {},
   "outputs": [],
   "source": [
    "from utils import granger_causality\n",
    "\n",
    "folder = '../../Xenium/HumanBoneMarrow/'\n",
    "scores = {}\n",
    "for i in range(len(tf_gene_pairs)):\n",
    "    # Fetch the TF and gene and read the velos\n",
    "    tf = tf_gene_pairs.iloc[i]['TF']\n",
    "    gene = tf_gene_pairs.iloc[i]['Gene']\n",
    "    tf_gene_folder = os.path.join(folder+'DelayPairs/', f\"{tf}_{gene}/\")\n",
    "    velo_file = tf_gene_folder + tf + '_' + gene + '_velos.csv'\n",
    "    if not os.path.exists(velo_file):\n",
    "        continue\n",
    "    velos = pd.read_csv(velo_file, header=None)\n",
    "    # Run Granger causality test\n",
    "    pvalues, random_pvalues = granger_causality(velos)\n",
    "    if pvalues is not None and random_pvalues is not None:\n",
    "        scores[tf + '_' + gene] = {\"observed\": pvalues, \"random\": random_pvalues}\n"
   ]
  },
  {
   "cell_type": "code",
   "execution_count": null,
   "metadata": {},
   "outputs": [],
   "source": [
    "# plt.figure(figsize=(4, 3))\n",
    "# plt.title('Box Plot of pvalues')\n",
    "# plt.xlabel('Groups')\n",
    "# plt.ylabel('p-value')\n",
    "# plt.boxplot([scores['ESR1_AR']['observed'], scores['ESR1_AR']['random']], labels=['pvalues', 'random_pvalues'])\n",
    "# plt.axhline(y=0.05, color='red', linestyle='dotted')\n",
    "# plt.show()"
   ]
  },
  {
   "cell_type": "code",
   "execution_count": 10,
   "metadata": {},
   "outputs": [],
   "source": [
    "scores_for_plot = []\n",
    "for tf_gene_pair, values in scores.items():\n",
    "    if tf_gene_pair in list(scores.keys())[:6]:\n",
    "        for key, vals in values.items():\n",
    "            for val in vals:\n",
    "                scores_for_plot.append({'TF-Gene Pair': tf_gene_pair, 'Type': key, 'p-value': val})\n",
    "df = pd.DataFrame(scores_for_plot)"
   ]
  },
  {
   "cell_type": "code",
   "execution_count": 11,
   "metadata": {},
   "outputs": [
    {
     "data": {
      "image/png": "[encoded data removed]",
      "text/plain": [
       "<Figure size 1200x300 with 1 Axes>"
      ]
     },
     "metadata": {},
     "output_type": "display_data"
    }
   ],
   "source": [
    "import seaborn as sns\n",
    "plt.figure(figsize=(12, 3))\n",
    "sns.boxplot(x='TF-Gene Pair', y='p-value', hue='Type', data=df, width=0.3)\n",
    "plt.axhline(y=0.05, color='red', linestyle='dotted')\n",
    "plt.xticks(rotation=45)\n",
    "plt.show()"
   ]
  },
  {
   "cell_type": "code",
   "execution_count": 16,
   "metadata": {},
   "outputs": [
    {
     "name": "stdout",
     "output_type": "stream",
     "text": [
      "['AR_KLF5', 'ELF3_AR', 'ELF3_TFAP2A', 'ESR1_AR', 'ESR1_ESR1', 'ESR1_MDM2', 'ESR1_TFAP2A', 'ESR1_USP53', 'GATA3_CD8A', 'GATA3_ESR1', 'GATA3_TFAP2A', 'GATA3_ZEB1', 'HOXD9_PRDM1', 'KLF5_CXCR4', 'PPARG_ZEB1', 'PRDM1_FOXA1', 'PRDM1_TCF4', 'RUNX1_ESR1', 'RUNX1_TCF4', 'RUNX1_TFAP2A', 'TFAP2A_EGFR', 'TFAP2A_KRT14', 'TFAP2A_KRT5', 'TFAP2A_PRDM1', 'ZEB1_CDH1', 'ZEB1_EPCAM', 'ZEB1_PPARG', 'ZEB1_PRDM1']\n"
     ]
    }
   ],
   "source": [
    "significant_pairs = []\n",
    "for tf_gene_pair, values in scores.items():\n",
    "    if np.median(values['observed']) < 0.05:\n",
    "        significant_pairs.append(tf_gene_pair)\n",
    "print(significant_pairs)"
   ]
  }
 ],
 "metadata": {
  "kernelspec": {
   "display_name": "pytorch-gpu",
   "language": "python",
   "name": "python3"
  },
  "language_info": {
   "codemirror_mode": {
    "name": "ipython",
    "version": 3
   },
   "file_extension": ".py",
   "mimetype": "text/x-python",
   "name": "python",
   "nbconvert_exporter": "python",
   "pygments_lexer": "ipython3",
   "version": "3.8.0"
  }
 },
 "nbformat": 4,
 "nbformat_minor": 2
}
