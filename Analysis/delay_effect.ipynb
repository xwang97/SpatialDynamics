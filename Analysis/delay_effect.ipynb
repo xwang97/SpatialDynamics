{
 "cells": [
  {
   "cell_type": "code",
   "execution_count": 1,
   "metadata": {},
   "outputs": [],
   "source": [
    "%load_ext autoreload\n",
    "%autoreload 2"
   ]
  },
  {
   "cell_type": "code",
   "execution_count": 1,
   "metadata": {},
   "outputs": [],
   "source": [
    "import sys\n",
    "import os\n",
    "from pathlib import Path\n",
    "import warnings\n",
    "from IPython.display import clear_output\n",
    "\n",
    "# Get the parent directory and add it to sys.path\n",
    "parent_dir = Path().resolve().parent\n",
    "sys.path.append(str(parent_dir))\n",
    "\n",
    "warnings.filterwarnings(\"ignore\")\n",
    "\n",
    "from data_builder import TimeSeriesBuilder, read_trans, read_labels\n",
    "from utils import read_data, set_seed\n",
    "from models import Model\n",
    "import torch\n",
    "import torch.nn as nn\n",
    "import matplotlib.pyplot as plt\n",
    "from training import train, test\n",
    "from tqdm import tqdm\n",
    "import pandas as pd"
   ]
  },
  {
   "cell_type": "markdown",
   "metadata": {},
   "source": [
    "### 1. Generate time-series by referring to a base gene"
   ]
  },
  {
   "cell_type": "code",
   "execution_count": null,
   "metadata": {},
   "outputs": [],
   "source": [
    "# load transcripts and cell types\n",
    "folder = '../../Xenium/BreastS1R1/'\n",
    "data_folder = folder + 'TimeSeries/'\n",
    "save_path = folder + 'ReferredTimeSeries/'\n",
    "cell_types = read_labels(filename=folder + 'Cell_Barcode_Type_Matrices.xlsx', sheet='Xenium R1 Fig1-5 (supervised)')\n",
    "# Fetch the list of genes\n",
    "gene_list = [f.split('_')[0] for f in os.listdir(data_folder) if f.endswith('.csv')]\n",
    "gene_list = sorted(list(set(gene_list)))\n",
    "# set base gene\n",
    "base_gene = 'GATA3'\n",
    "gene_list.remove(base_gene)\n",
    "refer_cell_ids = pd.read_csv(data_folder + base_gene + '_ids.csv').values\n",
    "\n",
    "for i in range(len(gene_list)):\n",
    "    gene = gene_list[i]\n",
    "    clear_output(wait=True)\n",
    "    print(f'Processing the {i+1}-th gene: {gene}')\n",
    "    transcripts = read_trans(folder + 'MoleculesPerGene/' + gene + '.csv')\n",
    "    num_cells = transcripts['cell_id'].nunique()\n",
    "    # Build time series\n",
    "    tsb = TimeSeriesBuilder(transcripts, cell_types)\n",
    "    tsb.run(num_samples=int(num_cells/5), save_path=save_path, gene=gene, method='refer', reference_ids=refer_cell_ids)"
   ]
  },
  {
   "cell_type": "markdown",
   "metadata": {},
   "source": [
    "### 2. Check delay effect"
   ]
  },
  {
   "cell_type": "markdown",
   "metadata": {},
   "source": [
    "Train another gene with the series built from the base gene paths."
   ]
  },
  {
   "cell_type": "code",
   "execution_count": 2,
   "metadata": {},
   "outputs": [],
   "source": [
    "folder = '../../Xenium/BreastS1R1/'\n",
    "data_folder = folder + 'ReferredTimeSeries/'\n",
    "model_folder = folder + 'ReferredModels/'\n",
    "\n",
    "# Set parameters\n",
    "SEQ_LEN = 20\n",
    "dim_inputs = 10\n",
    "hidden_size = 100\n",
    "latent_size = 100\n",
    "\n",
    "batch_size = 1024\n",
    "base_lr = 0.01\n",
    "lr_step = 10\n",
    "num_epochs = 100\n",
    "\n",
    "gene = 'FOXA1'"
   ]
  },
  {
   "cell_type": "code",
   "execution_count": 443,
   "metadata": {},
   "outputs": [
    {
     "name": "stderr",
     "output_type": "stream",
     "text": [
      "Training: 100%|██████████| 100/100 [00:02<00:00, 47.10it/s]\n"
     ]
    }
   ],
   "source": [
    "# data loading and training\n",
    "data_path = data_folder + gene + '_data.csv'\n",
    "locs_path = data_folder + gene + '_locs.csv'\n",
    "data, locs = read_data(data_path, locs_path, SEQ_LEN, dim_inputs)\n",
    "train_data = data\n",
    "train_locs = locs\n",
    "set_seed(42)\n",
    "net, _, _ = train(train_data, train_locs, batch_size, base_lr, lr_step, num_epochs, hidden_size, latent_size, SEQ_LEN)\n",
    "torch.save(net.state_dict(), model_folder + gene + '_model.pth')"
   ]
  },
  {
   "cell_type": "markdown",
   "metadata": {},
   "source": [
    "Test on both genes and check delay effect"
   ]
  },
  {
   "cell_type": "code",
   "execution_count": 3,
   "metadata": {},
   "outputs": [],
   "source": [
    "def easy_test(data_folder, model_folder, gene, SEQ_LEN, dim_inputs, hidden_size, latent_size):\n",
    "    # load test data\n",
    "    data_path = data_folder + gene + '_data.csv'\n",
    "    locs_path = data_folder + gene + '_locs.csv'\n",
    "    data, locs = read_data(data_path, locs_path, SEQ_LEN, dim_inputs)\n",
    "    test_data = data\n",
    "    test_locs = locs\n",
    "    # load the trained model and start test\n",
    "    model_path = model_folder + gene + '_model.pth'\n",
    "    net = Model(dim_inputs, hidden_size, latent_size, SEQ_LEN)\n",
    "    net.load_state_dict(torch.load(model_path))\n",
    "    prediction, generation, trans_status, loss_recon = test(test_data, test_locs, net)\n",
    "    return prediction, generation, trans_status, loss_recon"
   ]
  },
  {
   "cell_type": "code",
   "execution_count": 4,
   "metadata": {},
   "outputs": [],
   "source": [
    "_, generation, trans_status, _ = easy_test(data_folder, model_folder, gene, SEQ_LEN, dim_inputs, hidden_size, latent_size)"
   ]
  },
  {
   "cell_type": "code",
   "execution_count": 5,
   "metadata": {},
   "outputs": [],
   "source": [
    "data_folder_base = folder + 'TimeSeries/'\n",
    "model_folder_base = folder + 'Models/'\n",
    "base_gene = 'GATA3'\n",
    "_, generation_base, trans_status_base, _ = easy_test(data_folder_base, model_folder_base, base_gene, SEQ_LEN, dim_inputs, hidden_size, latent_size)"
   ]
  },
  {
   "cell_type": "code",
   "execution_count": 6,
   "metadata": {},
   "outputs": [
    {
     "data": {
      "image/png": "[encoded data removed]",
      "text/plain": [
       "<Figure size 640x480 with 1 Axes>"
      ]
     },
     "metadata": {},
     "output_type": "display_data"
    }
   ],
   "source": [
    "reference = pd.read_csv(data_folder + gene + '_reference.csv')\n",
    "i = 199\n",
    "ref = int(reference.iloc[i])\n",
    "gen = generation[i].view(-1).cpu().detach().numpy()\n",
    "status = trans_status[i].view(-1).cpu().detach().numpy()\n",
    "gen_base = generation_base[ref].view(-1).cpu().detach().numpy()\n",
    "status_base = trans_status_base[ref].view(-1).cpu().detach().numpy()\n",
    "\n",
    "plt.plot(gen*status, label=gene)\n",
    "plt.plot(gen_base*status_base, label=base_gene)\n",
    "plt.legend()\n",
    "plt.show()"
   ]
  },
  {
   "cell_type": "markdown",
   "metadata": {},
   "source": [
    "### 3. Save the paired velos"
   ]
  },
  {
   "cell_type": "code",
   "execution_count": 7,
   "metadata": {},
   "outputs": [],
   "source": [
    "import pandas as pd\n",
    "import numpy as np\n",
    "\n",
    "# Read the reference data\n",
    "reference = pd.read_csv(data_folder + gene + '_reference.csv')\n",
    "\n",
    "# Initialize a list to store the rows for the CSV file\n",
    "rows = []\n",
    "\n",
    "# Loop through all indices in the reference dataframe\n",
    "for i in range(len(reference)):\n",
    "    # Extract reference index\n",
    "    ref = int(reference.iloc[i])\n",
    "\n",
    "    # Process generated and base data\n",
    "    gen = generation[i].view(-1).cpu().detach().numpy()\n",
    "    status = trans_status[i].view(-1).cpu().detach().numpy()\n",
    "    gen_base = generation_base[ref].view(-1).cpu().detach().numpy()\n",
    "    status_base = trans_status_base[ref].view(-1).cpu().detach().numpy()\n",
    "\n",
    "    # Compute velo and velo_base\n",
    "    velo = gen * status\n",
    "    velo_base = gen_base * status_base\n",
    "\n",
    "    # Save the pair as a row\n",
    "    rows.append(np.hstack((velo_base, velo)))\n",
    "\n",
    "# Convert rows to a DataFrame and save to a CSV file\n",
    "output_df = pd.DataFrame(rows)\n",
    "output_df.to_csv(folder + 'velos/' + 'GATA3_FOXA1.csv', index=False, header=False)"
   ]
  }
 ],
 "metadata": {
  "kernelspec": {
   "display_name": "pytorch-gpu",
   "language": "python",
   "name": "python3"
  },
  "language_info": {
   "codemirror_mode": {
    "name": "ipython",
    "version": 3
   },
   "file_extension": ".py",
   "mimetype": "text/x-python",
   "name": "python",
   "nbconvert_exporter": "python",
   "pygments_lexer": "ipython3",
   "version": "3.8.0"
  }
 },
 "nbformat": 4,
 "nbformat_minor": 2
}
