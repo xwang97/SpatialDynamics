{
 "cells": [
  {
   "cell_type": "code",
   "execution_count": 1,
   "metadata": {},
   "outputs": [],
   "source": [
    "%load_ext autoreload\n",
    "%autoreload 2"
   ]
  },
  {
   "cell_type": "code",
   "execution_count": 2,
   "metadata": {},
   "outputs": [],
   "source": [
    "import sys\n",
    "import os\n",
    "from pathlib import Path\n",
    "import warnings\n",
    "from IPython.display import clear_output\n",
    "\n",
    "# Get the parent directory and add it to sys.path\n",
    "parent_dir = Path().resolve().parent\n",
    "sys.path.append(str(parent_dir))\n",
    "\n",
    "warnings.filterwarnings(\"ignore\")\n",
    "\n",
    "from preprocess import pre_xenium"
   ]
  },
  {
   "cell_type": "markdown",
   "metadata": {},
   "source": [
    "### 1. Preprocess internal data at each time step"
   ]
  },
  {
   "cell_type": "code",
   "execution_count": 10,
   "metadata": {},
   "outputs": [
    {
     "name": "stdout",
     "output_type": "stream",
     "text": [
      "['12h', '24h', '0h', '4h', '16h', '8h']\n",
      "../../Jing/0029719/12h\n"
     ]
    },
    {
     "name": "stderr",
     "output_type": "stream",
     "text": [
      "100%|██████████| 469/469 [24:05<00:00,  3.08s/it]\n"
     ]
    },
    {
     "name": "stdout",
     "output_type": "stream",
     "text": [
      "../../Jing/0029719/24h\n"
     ]
    },
    {
     "name": "stderr",
     "output_type": "stream",
     "text": [
      "100%|██████████| 469/469 [20:51<00:00,  2.67s/it]\n"
     ]
    },
    {
     "name": "stdout",
     "output_type": "stream",
     "text": [
      "../../Jing/0029719/0h\n"
     ]
    },
    {
     "name": "stderr",
     "output_type": "stream",
     "text": [
      "100%|██████████| 469/469 [02:30<00:00,  3.12it/s]\n"
     ]
    },
    {
     "name": "stdout",
     "output_type": "stream",
     "text": [
      "../../Jing/0029719/4h\n"
     ]
    },
    {
     "name": "stderr",
     "output_type": "stream",
     "text": [
      "100%|██████████| 469/469 [14:08<00:00,  1.81s/it]\n"
     ]
    },
    {
     "name": "stdout",
     "output_type": "stream",
     "text": [
      "../../Jing/0029719/16h\n"
     ]
    },
    {
     "name": "stderr",
     "output_type": "stream",
     "text": [
      "100%|██████████| 469/469 [21:25<00:00,  2.74s/it]\n"
     ]
    },
    {
     "name": "stdout",
     "output_type": "stream",
     "text": [
      "../../Jing/0029719/8h\n"
     ]
    },
    {
     "name": "stderr",
     "output_type": "stream",
     "text": [
      "100%|██████████| 469/469 [16:26<00:00,  2.10s/it]\n"
     ]
    }
   ],
   "source": [
    "import os\n",
    "\n",
    "root_dir = \"../../Jing/0029719\"\n",
    "folders = [folder for folder in os.listdir(root_dir) if os.path.isdir(os.path.join(root_dir, folder))]\n",
    "print(folders)\n",
    "for folder in folders:\n",
    "    path = os.path.join(root_dir, folder)\n",
    "    print(path)\n",
    "    pre_xenium(path)"
   ]
  },
  {
   "cell_type": "markdown",
   "metadata": {},
   "source": [
    "### 2. Generate training sets"
   ]
  },
  {
   "cell_type": "code",
   "execution_count": 22,
   "metadata": {},
   "outputs": [
    {
     "name": "stdout",
     "output_type": "stream",
     "text": [
      "Processing the 469-th gene: ZC3HAV1\n",
      "Building cell dictionaries\n",
      "Build cell feature vectors\n",
      "Building cell dictionaries\n",
      "Build cell feature vectors\n",
      "Building cell dictionaries\n",
      "Build cell feature vectors\n",
      "Building cell dictionaries\n",
      "Build cell feature vectors\n",
      "Building cell dictionaries\n",
      "Build cell feature vectors\n",
      "Building cell dictionaries\n",
      "Build cell feature vectors\n"
     ]
    },
    {
     "name": "stderr",
     "output_type": "stream",
     "text": [
      "100%|██████████| 6368/6368 [00:00<00:00, 572167.00it/s]"
     ]
    },
    {
     "name": "stdout",
     "output_type": "stream",
     "text": [
      "6368 time-series samples of ZC3HAV1 generated\n"
     ]
    },
    {
     "name": "stderr",
     "output_type": "stream",
     "text": [
      "\n"
     ]
    }
   ],
   "source": [
    "from data_builder_time_course import FeaturesWrapper, TimeSeriesBuilder\n",
    "from data_builder import read_trans\n",
    "import pandas as pd\n",
    "\n",
    "# load transcripts and cell types\n",
    "root_dir = \"../../Jing/0029719/\"\n",
    "# folders = [folder for folder in os.listdir(root_dir) if os.path.isdir(os.path.join(root_dir, folder))]\n",
    "folders = ['0h', '4h', '8h', '12h', '16h', '24h']\n",
    "save_path = root_dir + 'TimeSeries/'\n",
    "gene_list = pd.read_csv(os.path.join(root_dir+folders[0], \"features.tsv\"), sep='\\t', header=None)\n",
    "gene_list = gene_list[gene_list[2] == \"Gene Expression\"][1] \n",
    "for i in range(len(gene_list)):\n",
    "    gene = gene_list[i]\n",
    "    clear_output(wait=True)\n",
    "    print(f'Processing the {i+1}-th gene: {gene}')\n",
    "    obs_list = []\n",
    "    for folder in folders:\n",
    "        folder_path = os.path.join(root_dir, folder)\n",
    "        transcripts = read_trans(folder_path + '/MoleculesPerGene/' + gene + '.csv')\n",
    "        time_stamp = int(folder.split(\"h\")[0])\n",
    "        obs = FeaturesWrapper(transcripts, time_stamp)\n",
    "        obs_list.append(obs)\n",
    "    # Build time series\n",
    "    tsb = TimeSeriesBuilder(obs_list)\n",
    "    tsb.run(save_path=save_path, gene=gene)"
   ]
  }
 ],
 "metadata": {
  "kernelspec": {
   "display_name": "pytorch-gpu",
   "language": "python",
   "name": "python3"
  },
  "language_info": {
   "codemirror_mode": {
    "name": "ipython",
    "version": 3
   },
   "file_extension": ".py",
   "mimetype": "text/x-python",
   "name": "python",
   "nbconvert_exporter": "python",
   "pygments_lexer": "ipython3",
   "version": "3.8.0"
  }
 },
 "nbformat": 4,
 "nbformat_minor": 2
}
